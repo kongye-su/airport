{
 "cells": [
  {
   "cell_type": "code",
   "execution_count": 1,
   "metadata": {
    "collapsed": true,
    "pycharm": {
     "name": "#%%\n"
    }
   },
   "outputs": [],
   "source": [
    "import requests\n",
    "sess = requests.Session()"
   ]
  },
  {
   "cell_type": "code",
   "execution_count": 2,
   "outputs": [],
   "source": [
    "url = \"https://aff03.speedcat-aff02.com/auth/register\""
   ],
   "metadata": {
    "collapsed": false,
    "pycharm": {
     "name": "#%%\n"
    }
   }
  },
  {
   "cell_type": "code",
   "execution_count": 3,
   "outputs": [],
   "source": [
    "data = {\"email\":\"qweq15dtys4r@gmail.com\",\n",
    "\"name\":\"sadfagdsag\",\n",
    "\"passwd\":\"KExaK8XjYZRUWQK\",\n",
    "\"repasswd\":\"KExaK8XjYZRUWQK\",\n",
    "\"code\":\"speedcat\"}"
   ],
   "metadata": {
    "collapsed": false,
    "pycharm": {
     "name": "#%%\n"
    }
   }
  },
  {
   "cell_type": "code",
   "execution_count": 4,
   "outputs": [],
   "source": [
    "res = sess.post(url,data=data)"
   ],
   "metadata": {
    "collapsed": false,
    "pycharm": {
     "name": "#%%\n"
    }
   }
  },
  {
   "cell_type": "code",
   "execution_count": 7,
   "outputs": [
    {
     "name": "stdout",
     "output_type": "stream",
     "text": [
      "{\"ret\":1,\"msg\":\"\\u6ce8\\u518c\\u6210\\u529f\\uff01\\u6b63\\u5728\\u8fdb\\u5165\\u767b\\u5f55\\u754c\\u9762\"}\n"
     ]
    }
   ],
   "source": [
    "res"
   ],
   "metadata": {
    "collapsed": false,
    "pycharm": {
     "name": "#%%\n"
    }
   }
  },
  {
   "cell_type": "code",
   "execution_count": 8,
   "outputs": [],
   "source": [
    "res1 = sess.get(\"https://aff03.speedcat-aff02.com/user\")"
   ],
   "metadata": {
    "collapsed": false,
    "pycharm": {
     "name": "#%%\n"
    }
   }
  },
  {
   "cell_type": "code",
   "execution_count": 9,
   "outputs": [
    {
     "data": {
      "text/plain": "'<!DOCTYPE html>\\n<html lang=\"en\">\\n\\n<head>\\n  <meta charset=\"UTF-8\">\\n  <meta content=\"width=device-width, initial-scale=1, maximum-scale=1, shrink-to-fit=no\" name=\"viewport\">\\n  <meta name=\"keywords\" content=\"Fastlink,世界触手可及\">\\n  <meta name=\"description\" content=\"超强的技术团队,高峰期稳定快速不掉线,可免费体验顶级服务,超快速度,4K秒开,体验宛如身在海外\">\\n  <title>登录 &mdash; SPEEDCAT</title>\\n\\n  <!-- General CSS Files -->\\n  <link rel=\"stylesheet\" href=\"/theme/malio/index/css/jsdelivr/bootstrap.min.css\">\\n  <link rel=\"stylesheet\" href=\"/theme/malio/index/css/jsdelivr/all.min.css\">\\n\\n  <!-- Template CSS -->\\n  <link rel=\"stylesheet\" href=\"/theme/malio/assets/css/style.css\">\\n  <link rel=\"stylesheet\" href=\"/theme/malio/assets/css/components.css\">\\n\\n  \\n</head>\\n\\n<body>\\n  <div id=\"app\">\\n    <section class=\"section\">\\n      <div class=\"container mt-5\">\\n        <div class=\"row\">\\n          <div class=\"col-12 col-sm-8 offset-sm-2 col-md-6 offset-md-3 col-lg-6 offset-lg-3 col-xl-4 offset-xl-4\">\\n            <div class=\"login-brand\">\\n              <img src=\"/theme/malio/assets/img/stisla-fill.svg\" alt=\"logo\" width=\"100\" class=\"shadow-light rounded-circle\">\\n            </div>\\n\\n            <div class=\"card card-primary\">\\n              <div class=\"card-header\">\\n                <h4>登录</h4>\\n              </div>\\n              <form action=\"javascript:void(0);\" method=\"POST\" class=\"needs-validation\" novalidate=\"\">\\n\\n                <div class=\"card-body\">\\n                  <div class=\"form-group login-form-item\">\\n                    <label for=\"email\">邮箱</label>\\n                    <input id=\"email\" type=\"email\" class=\"form-control\" name=\"email\" tabindex=\"1\" required autofocus>\\n                    <div class=\"invalid-feedback\">\\n                      请填写邮箱\\n                    </div>\\n                  </div>\\n\\n                  <div class=\"form-group login-form-item\">\\n                    <div class=\"d-block\">\\n                      <label for=\"password\" class=\"control-label\">密码</label>\\n                      <div class=\"float-right\">\\n                        <a href=\"/password/reset\" class=\"text-small\">\\n                          忘记密码？\\n                        </a>\\n                      </div>\\n                    </div>\\n                    <input id=\"password\" type=\"password\" class=\"form-control\" name=\"password\" tabindex=\"2\" required>\\n                    <div class=\"invalid-feedback\">\\n                      请填写密码\\n                    </div>\\n                  </div>\\n\\n                  <div id=\"2fa-form\" class=\"form-group\" style=\"display: none;\">\\n                    <label for=\"2fa-code\">二步验证</label>\\n                    <input id=\"2fa-code\" type=\"number\" class=\"form-control\" name=\"2fa-code\" tabindex=\"1\" maxlength=\"6\" placeholder=\"请输入6位验证码\" required>\\n                    <div class=\"invalid-feedback\">\\n                      请输入验证码\\n                    </div>\\n                  </div>\\n\\n                  \\n                  \\n                  <div class=\"form-group login-form-item\">\\n                    <div class=\"custom-control custom-checkbox\">\\n                      <input type=\"checkbox\" name=\"remember\" class=\"custom-control-input\" tabindex=\"3\" id=\"remember-me\">\\n                      <label class=\"custom-control-label\" for=\"remember-me\">记住我</label>\\n                    </div>\\n                  </div>\\n\\n                  <div class=\"form-group\">\\n                    <button type=\"submit\" class=\"btn btn-primary btn-lg btn-block login\" tabindex=\"4\">\\n                      登录\\n                    </button>\\n                  </div>\\n              </form>\\n              \\n            </div>\\n          </div>\\n          <div class=\"mt-5 text-muted text-center login-form-item\">\\n            还没有帐号？<a href=\"/auth/register\">马上注册 👉</a>\\n          </div>\\n          <div class=\"simple-footer\">\\n            Copyright &copy; 2020 SPEEDCAT\\n            <div class=\"mt-2\" id=\"copyright\"></div>\\n          </div>\\n        </div>\\n      </div>\\n  </div>\\n  </section>\\n  </div>\\n\\n  \\n  <!-- General JS Scripts -->\\n  <script src=\"/theme/malio/index/js/jsdelivr/jquery.min.js\"></script>\\n  <script src=\"/theme/malio/index/js/jsdelivr/popper.min.js\"></script>\\n  <script src=\"/theme/malio/index/js/jsdelivr/tooltip.min.js\"></script>\\n  <script src=\"/theme/malio/index/js/jsdelivr/bootstrap.min.js\"></script>\\n  <script src=\"/theme/malio/index/js/jsdelivr/jquery.nicescroll.min.js\"></script>\\n  <script src=\"/theme/malio/index/js/jsdelivr/moment.min.js\"></script>\\n\\n  <!-- JS Libraies -->\\n  <script src=\"/theme/malio/index/js/jsdelivr/sweetalert2.all.min.js\"></script>\\n  <script src=\"/theme/malio/index/js/jsdelivr/clipboard.min.js\"></script>\\n\\n  <!-- Page Specific JS File -->\\n  <script src=\"/theme/malio/js/malio.js?5\"></script>\\n\\n  <script>\\n  var code = \"UG93ZXJlZCBieSA8YSBocmVmPSIvc3RhZmYiPlNTUEFORUw8L2E+IDxkaXYgY2xhc3M9ImJ1bGxldCI+PC9kaXY+VGhlbWUgYnkgPGEgaHJlZj0iaHR0cHM6Ly90Lm1lL2VkaXRYWSIgdGFyZ2V0PSJibGFuayI+ZWRpdFhZPC9hPg==\";\\n  var newcode=\"UG93ZXJlZCBieSA8YSBocmVmPSIvc3RhZmYiPlNTUEFORUw8L2E+\";\\n  $(\\'#copyright\\').html(atob(newcode));\\n  </script>\\n\\n  \\n  <script>\\n    var twoFA = false;\\n    function login() {\\n      if (!$(\"#password\").val() || !$(\"#email\").val()) {\\n        return false;\\n      }\\n\\n      \\n      if (twoFA == true) {\\n        if (!$(\"#2fa-code\").val()) {\\n          return false;\\n        }\\n      }\\n\\n      $.ajax({\\n        type: \"POST\",\\n        url: \"/auth/login\",\\n        dataType: \"json\",\\n        data: {\\n          email: $(\"#email\").val(),\\n          passwd: $(\"#password\").val(),\\n          code: $(\"#2fa-code\").val(),          remember_me: $(\"#remember-me:checked\").val()        },\\n        success: function (data) {\\n          if (data.ret == 1) {\\n            window.location.assign(\\'/user\\')\\n          } else if(data.ret == 2) {\\n            $(\\'.login-form-item\\').hide(\\'500\\');\\n            $(\\'form\\').removeClass(\\'was-validated\\');\\n            $(\\'#2fa-form\\').show(\\'fast\\');\\n                                  } else {\\n                                    var errorMsg = \\'密码或邮箱不正确\\';\\n            if (twoFA == true) {\\n              errorMsg = \\'两步验证码错误\\'\\n            }\\n            swal(\\'出错了\\', errorMsg, \\'error\\');\\n          }\\n        }\\n      });\\n    }\\n    $(\"html\").keydown(function (event) {\\n      if (event.keyCode == 13) {\\n        login();\\n      }\\n    });\\n    $(\".login\").click(function () {\\n      login();\\n    });\\n  </script>\\n\\n\\n\\n</body>\\n\\n</html>'"
     },
     "execution_count": 9,
     "metadata": {},
     "output_type": "execute_result"
    }
   ],
   "source": [
    "res1.text"
   ],
   "metadata": {
    "collapsed": false,
    "pycharm": {
     "name": "#%%\n"
    }
   }
  },
  {
   "cell_type": "code",
   "execution_count": null,
   "outputs": [],
   "source": [],
   "metadata": {
    "collapsed": false,
    "pycharm": {
     "name": "#%%\n"
    }
   }
  }
 ],
 "metadata": {
  "kernelspec": {
   "display_name": "Python 3",
   "language": "python",
   "name": "python3"
  },
  "language_info": {
   "codemirror_mode": {
    "name": "ipython",
    "version": 2
   },
   "file_extension": ".py",
   "mimetype": "text/x-python",
   "name": "python",
   "nbconvert_exporter": "python",
   "pygments_lexer": "ipython2",
   "version": "2.7.6"
  }
 },
 "nbformat": 4,
 "nbformat_minor": 0
}